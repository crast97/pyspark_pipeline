{
 "cells": [
  {
   "cell_type": "code",
   "execution_count": 31,
   "id": "1a3666b7-c58a-4c44-957b-65319d703c54",
   "metadata": {},
   "outputs": [],
   "source": [
    "import findspark\n",
    "findspark.init()\n",
    "\n",
    "from pyspark.sql import SparkSession\n",
    "from pyspark.sql.functions import lit,floor, rand, col, round\n",
    "\n",
    "\n",
    "\n",
    "spark = SparkSession.builder \\\n",
    "    .appName(\"Notebook Spark Session\") \\\n",
    "    .getOrCreate()\n",
    "\n",
    "spark.sparkContext.setLogLevel(\"WARN\")  # or INFO, ERROR, etc."
   ]
  },
  {
   "cell_type": "code",
   "execution_count": 9,
   "id": "cfb60f7c-1444-4756-bd62-8c97d25cff2e",
   "metadata": {},
   "outputs": [
    {
     "name": "stdout",
     "output_type": "stream",
     "text": [
      "+----------+----------------+-----------------+\n",
      "|patient_id|appointment_date|           doctor|\n",
      "+----------+----------------+-----------------+\n",
      "|       236|      2024-05-17|     Morgan Baker|\n",
      "|       225|      2024-08-03|   Vincent Wright|\n",
      "|       831|      2024-07-19|      Joshua Ford|\n",
      "|       116|      2024-03-02|    Michelle Hill|\n",
      "|       433|      2024-01-17|       Kari Morse|\n",
      "|       287|      2024-08-19|      Oscar Baker|\n",
      "|       729|      2024-07-15|   George Estrada|\n",
      "|       554|      2024-05-09|      James Baker|\n",
      "|        90|      2024-05-07|    Vickie Obrien|\n",
      "|       277|      2024-02-14|   Jennifer Silva|\n",
      "|       261|      2024-08-23|     Andrew Brown|\n",
      "|       510|      2024-03-06|      Trevor Hall|\n",
      "|       898|      2024-05-23|   Dorothy Obrien|\n",
      "|       534|      2024-06-17|   Nicole Terrell|\n",
      "|       562|      2024-03-18|  Rebecca Ramirez|\n",
      "|       343|      2024-05-02|     Denise Walsh|\n",
      "|       566|      2024-03-19|       Nancy Ford|\n",
      "|       447|      2024-07-08|       Joshua Ali|\n",
      "|       780|      2024-09-07|Kathryn Rodriguez|\n",
      "|       745|      2024-02-26|    Zachary Young|\n",
      "+----------+----------------+-----------------+\n",
      "only showing top 20 rows\n",
      "\n"
     ]
    }
   ],
   "source": [
    "appointment_df = spark.read.csv('sample_data/appointment_data.csv', header=True, inferSchema=True)\n",
    "appointment_df.show()"
   ]
  },
  {
   "cell_type": "code",
   "execution_count": 10,
   "id": "4294376b-65cd-4ec1-bd49-d313670e3191",
   "metadata": {},
   "outputs": [
    {
     "name": "stdout",
     "output_type": "stream",
     "text": [
      "+----------+----------------+------------------+\n",
      "|patient_id|appointment_date|            doctor|\n",
      "+----------+----------------+------------------+\n",
      "|         3|      2024-05-12|  Kristina Collins|\n",
      "|         4|      2024-08-17|     Felicia Moore|\n",
      "|         5|      2024-03-20|  Eugene Wilson MD|\n",
      "|         5|      2024-05-08|      Jason Taylor|\n",
      "|         6|      2024-08-23|    Jessica Martin|\n",
      "|         8|      2024-01-18|       Erin Castro|\n",
      "|        10|      2024-09-08|        Mary Ortiz|\n",
      "|        11|      2024-04-17|Sherri Fitzpatrick|\n",
      "|        12|      2024-01-03|  Richard Martinez|\n",
      "|        12|      2024-07-04|         Joy Price|\n",
      "|        16|      2024-04-26|        Stacy Leon|\n",
      "|        17|      2024-08-24|  Cheyenne Watkins|\n",
      "|        17|      2024-04-06|        Ryan Davis|\n",
      "|        17|      2024-07-02|  Joshua Rodriguez|\n",
      "|        18|      2024-03-29|  Kristine Robbins|\n",
      "|        18|      2024-06-26|    Matthew Lawson|\n",
      "|        19|      2024-01-08|      Julia Lawson|\n",
      "|        20|      2024-04-30|        Rose Bruce|\n",
      "|        20|      2024-03-27|       Becky Scott|\n",
      "|        21|      2024-02-09|    Scott Mcdowell|\n",
      "+----------+----------------+------------------+\n",
      "only showing top 20 rows\n",
      "\n"
     ]
    }
   ],
   "source": [
    "sorted_df = appointment_df.orderBy('patient_id')\n",
    "sorted_df.show()"
   ]
  },
  {
   "cell_type": "code",
   "execution_count": 12,
   "id": "5fa28a4f-222d-4d5e-b71a-9cd4f3f9928f",
   "metadata": {},
   "outputs": [
    {
     "name": "stdout",
     "output_type": "stream",
     "text": [
      "+----------+----------------+------------------+-----+\n",
      "|patient_id|appointment_date|            doctor|hours|\n",
      "+----------+----------------+------------------+-----+\n",
      "|         3|      2024-05-12|  Kristina Collins|   20|\n",
      "|         4|      2024-08-17|     Felicia Moore|   20|\n",
      "|         5|      2024-03-20|  Eugene Wilson MD|   20|\n",
      "|         5|      2024-05-08|      Jason Taylor|   20|\n",
      "|         6|      2024-08-23|    Jessica Martin|   20|\n",
      "|         8|      2024-01-18|       Erin Castro|   20|\n",
      "|        10|      2024-09-08|        Mary Ortiz|   20|\n",
      "|        11|      2024-04-17|Sherri Fitzpatrick|   20|\n",
      "|        12|      2024-01-03|  Richard Martinez|   20|\n",
      "|        12|      2024-07-04|         Joy Price|   20|\n",
      "+----------+----------------+------------------+-----+\n",
      "only showing top 10 rows\n",
      "\n"
     ]
    }
   ],
   "source": [
    "sorted_df = sorted_df.withColumn('hours', lit(20))\n",
    "sorted_df.show(10)\n"
   ]
  },
  {
   "cell_type": "code",
   "execution_count": 21,
   "id": "aa32c6e1-2301-4e76-bca3-c0f89cbe96e5",
   "metadata": {},
   "outputs": [
    {
     "name": "stdout",
     "output_type": "stream",
     "text": [
      "+----------+----------------+------------------+-----+-------------+\n",
      "|patient_id|appointment_date|            doctor|hours|weight_pounds|\n",
      "+----------+----------------+------------------+-----+-------------+\n",
      "|         3|      2024-05-12|  Kristina Collins|   20|          153|\n",
      "|         4|      2024-08-17|     Felicia Moore|   20|          176|\n",
      "|         5|      2024-03-20|  Eugene Wilson MD|   20|          133|\n",
      "|         5|      2024-05-08|      Jason Taylor|   20|          143|\n",
      "|         6|      2024-08-23|    Jessica Martin|   20|          153|\n",
      "|         8|      2024-01-18|       Erin Castro|   20|          150|\n",
      "|        10|      2024-09-08|        Mary Ortiz|   20|          234|\n",
      "|        11|      2024-04-17|Sherri Fitzpatrick|   20|          169|\n",
      "|        12|      2024-01-03|  Richard Martinez|   20|          201|\n",
      "|        12|      2024-07-04|         Joy Price|   20|          187|\n",
      "|        16|      2024-04-26|        Stacy Leon|   20|          190|\n",
      "|        17|      2024-08-24|  Cheyenne Watkins|   20|          246|\n",
      "|        17|      2024-04-06|        Ryan Davis|   20|          161|\n",
      "|        17|      2024-07-02|  Joshua Rodriguez|   20|          128|\n",
      "|        18|      2024-03-29|  Kristine Robbins|   20|          138|\n",
      "|        18|      2024-06-26|    Matthew Lawson|   20|          198|\n",
      "|        19|      2024-01-08|      Julia Lawson|   20|          146|\n",
      "|        20|      2024-03-27|       Becky Scott|   20|          141|\n",
      "|        20|      2024-04-30|        Rose Bruce|   20|          120|\n",
      "|        21|      2024-02-09|    Scott Mcdowell|   20|          225|\n",
      "|        21|      2024-01-17|    Annette Miller|   20|          209|\n",
      "|        21|      2024-04-21|     Sonya Goodman|   20|          146|\n",
      "|        24|      2024-04-02|      Dustin Ellis|   20|          190|\n",
      "|        24|      2024-08-12|     Victor Foster|   20|          206|\n",
      "|        25|      2024-02-16|     Jessica Jones|   20|          247|\n",
      "|        26|      2024-05-22|       Holly Beard|   20|          238|\n",
      "|        27|      2024-03-15|        Rick Lewis|   20|          197|\n",
      "|        27|      2024-05-15|      Amanda Payne|   20|          170|\n",
      "|        28|      2024-06-04|      Alex Preston|   20|          188|\n",
      "|        29|      2024-07-22|  Ronald Whitehead|   20|          236|\n",
      "+----------+----------------+------------------+-----+-------------+\n",
      "only showing top 30 rows\n",
      "\n"
     ]
    }
   ],
   "source": [
    "df_with_weight = sorted_df.withColumn('weight_pounds',floor(rand() * (250 - 120 + 1) + 120))\n",
    "df_with_weight.show(30)"
   ]
  },
  {
   "cell_type": "code",
   "execution_count": 29,
   "id": "38187d9d-94bc-4800-8cb3-35fb319182b0",
   "metadata": {},
   "outputs": [
    {
     "name": "stdout",
     "output_type": "stream",
     "text": [
      "+----------+----------------+------------------+-----+-------------+---------+\n",
      "|patient_id|appointment_date|            doctor|hours|weight_pounds|Height_cm|\n",
      "+----------+----------------+------------------+-----+-------------+---------+\n",
      "|         3|      2024-05-12|  Kristina Collins|   20|          153|      200|\n",
      "|         4|      2024-08-17|     Felicia Moore|   20|          176|      188|\n",
      "|         5|      2024-03-20|  Eugene Wilson MD|   20|          133|      185|\n",
      "|         5|      2024-05-08|      Jason Taylor|   20|          143|      198|\n",
      "|         6|      2024-08-23|    Jessica Martin|   20|          153|      170|\n",
      "|         8|      2024-01-18|       Erin Castro|   20|          150|      179|\n",
      "|        10|      2024-09-08|        Mary Ortiz|   20|          234|      182|\n",
      "|        11|      2024-04-17|Sherri Fitzpatrick|   20|          169|      183|\n",
      "|        12|      2024-01-03|  Richard Martinez|   20|          201|      187|\n",
      "|        12|      2024-07-04|         Joy Price|   20|          187|      181|\n",
      "|        16|      2024-04-26|        Stacy Leon|   20|          190|      179|\n",
      "|        17|      2024-08-24|  Cheyenne Watkins|   20|          246|      179|\n",
      "|        17|      2024-04-06|        Ryan Davis|   20|          161|      198|\n",
      "|        17|      2024-07-02|  Joshua Rodriguez|   20|          128|      183|\n",
      "|        18|      2024-03-29|  Kristine Robbins|   20|          138|      178|\n",
      "|        18|      2024-06-26|    Matthew Lawson|   20|          198|      189|\n",
      "|        19|      2024-01-08|      Julia Lawson|   20|          146|      186|\n",
      "|        20|      2024-03-27|       Becky Scott|   20|          141|      199|\n",
      "|        20|      2024-04-30|        Rose Bruce|   20|          120|      185|\n",
      "|        21|      2024-02-09|    Scott Mcdowell|   20|          225|      185|\n",
      "+----------+----------------+------------------+-----+-------------+---------+\n",
      "only showing top 20 rows\n",
      "\n"
     ]
    }
   ],
   "source": [
    "df_with_height = df_with_weight.withColumn('Height_cm', floor(rand()*(200 - 170 + 1) + 170))\n",
    "df_with_height.show()"
   ]
  },
  {
   "cell_type": "code",
   "execution_count": 32,
   "id": "deb2b2b5-fae8-4543-aa0f-0a49205cff24",
   "metadata": {},
   "outputs": [
    {
     "name": "stdout",
     "output_type": "stream",
     "text": [
      "+----------+----------------+------------------+-----+-------------+---------+-----+\n",
      "|patient_id|appointment_date|            doctor|hours|weight_pounds|Height_cm|  bmi|\n",
      "+----------+----------------+------------------+-----+-------------+---------+-----+\n",
      "|         3|      2024-05-12|  Kristina Collins|   20|          153|      200|17.35|\n",
      "|         4|      2024-08-17|     Felicia Moore|   20|          176|      188|22.59|\n",
      "|         5|      2024-03-20|  Eugene Wilson MD|   20|          133|      185|17.63|\n",
      "|         5|      2024-05-08|      Jason Taylor|   20|          143|      198|16.55|\n",
      "|         6|      2024-08-23|    Jessica Martin|   20|          153|      170|24.01|\n",
      "|         8|      2024-01-18|       Erin Castro|   20|          150|      179|21.23|\n",
      "|        10|      2024-09-08|        Mary Ortiz|   20|          234|      182|32.04|\n",
      "|        11|      2024-04-17|Sherri Fitzpatrick|   20|          169|      183|22.89|\n",
      "|        12|      2024-01-03|  Richard Martinez|   20|          201|      187|26.07|\n",
      "|        12|      2024-07-04|         Joy Price|   20|          187|      181|25.89|\n",
      "|        16|      2024-04-26|        Stacy Leon|   20|          190|      179| 26.9|\n",
      "|        17|      2024-08-24|  Cheyenne Watkins|   20|          246|      179|34.83|\n",
      "|        17|      2024-04-06|        Ryan Davis|   20|          161|      198|18.63|\n",
      "|        17|      2024-07-02|  Joshua Rodriguez|   20|          128|      183|17.34|\n",
      "|        18|      2024-03-29|  Kristine Robbins|   20|          138|      178|19.76|\n",
      "|        18|      2024-06-26|    Matthew Lawson|   20|          198|      189|25.14|\n",
      "|        19|      2024-01-08|      Julia Lawson|   20|          146|      186|19.14|\n",
      "|        20|      2024-03-27|       Becky Scott|   20|          141|      199|16.15|\n",
      "|        20|      2024-04-30|        Rose Bruce|   20|          120|      185| 15.9|\n",
      "|        21|      2024-02-09|    Scott Mcdowell|   20|          225|      185|29.82|\n",
      "+----------+----------------+------------------+-----+-------------+---------+-----+\n",
      "only showing top 20 rows\n",
      "\n"
     ]
    }
   ],
   "source": [
    "df_with_bmi = df_with_height.withColumn(\n",
    "    \"bmi\",\n",
    "    round((col(\"weight_pounds\") * 0.45359237) / ((col(\"Height_cm\") / 100) ** 2), 2)\n",
    ")\n",
    "df_with_bmi.show()"
   ]
  },
  {
   "cell_type": "code",
   "execution_count": 35,
   "id": "0cbc223e-c147-4758-b808-94b04d20007c",
   "metadata": {},
   "outputs": [],
   "source": [
    "df_with_bmi.coalesce(1).write.csv('sample_data/transformed_appointment_data', header=True, mode='overwrite')\n"
   ]
  },
  {
   "cell_type": "code",
   "execution_count": null,
   "id": "44936ff3-77b4-4e7f-8583-e182af2ec145",
   "metadata": {},
   "outputs": [],
   "source": []
  }
 ],
 "metadata": {
  "kernelspec": {
   "display_name": "Python 3 (ipykernel)",
   "language": "python",
   "name": "python3"
  },
  "language_info": {
   "codemirror_mode": {
    "name": "ipython",
    "version": 3
   },
   "file_extension": ".py",
   "mimetype": "text/x-python",
   "name": "python",
   "nbconvert_exporter": "python",
   "pygments_lexer": "ipython3",
   "version": "3.11.8"
  }
 },
 "nbformat": 4,
 "nbformat_minor": 5
}
